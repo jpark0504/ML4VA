{
  "nbformat": 4,
  "nbformat_minor": 0,
  "metadata": {
    "colab": {
      "provenance": []
    },
    "kernelspec": {
      "name": "python3",
      "display_name": "Python 3"
    },
    "language_info": {
      "name": "python"
    }
  },
  "cells": [
    {
      "cell_type": "markdown",
      "source": [
        "# Step 1: Setup\n",
        "\n",
        "Import libraries and dataset"
      ],
      "metadata": {
        "id": "Kf_dPB7pBQ3G"
      }
    },
    {
      "cell_type": "code",
      "execution_count": null,
      "metadata": {
        "id": "QLKukzz4BEwZ"
      },
      "outputs": [],
      "source": [
        "# Imports\n",
        "import sklearn\n",
        "import numpy as np\n",
        "import os\n",
        "\n",
        "np.random.seed(42)\n",
        "\n",
        "%matplotlib inline\n",
        "import matplotlib as mpl\n",
        "import matplotlib.pyplot as plt\n",
        "import seaborn as sns\n",
        "\n",
        "import pandas as pd\n",
        "from pandas.plotting import scatter_matrix\n",
        "\n",
        "from sklearn.model_selection import train_test_split\n",
        "from sklearn.model_selection import cross_val_score\n",
        "from sklearn.model_selection import GridSearchCV\n",
        "from sklearn.model_selection import RandomizedSearchCV\n",
        "from sklearn.base import BaseEstimator, TransformerMixin\n",
        "from sklearn.impute import SimpleImputer\n",
        "from sklearn.pipeline import Pipeline\n",
        "from sklearn.preprocessing import StandardScaler\n",
        "from sklearn.preprocessing import OneHotEncoder\n",
        "from sklearn.compose import ColumnTransformer\n",
        "from sklearn.linear_model import LinearRegression\n",
        "from sklearn.metrics import mean_squared_error\n",
        "from sklearn.metrics import mean_absolute_error\n",
        "from sklearn.tree import DecisionTreeRegressor\n",
        "from sklearn.ensemble import RandomForestRegressor\n",
        "\n",
        "from scipy.stats import randint"
      ]
    },
    {
      "cell_type": "code",
      "source": [
        "# Memory usage in MB\n",
        "dataset_size_MB = housing.memory_usage(deep=True).sum() / (1024 ** 2)\n",
        "print(f\"Dataset size: {dataset_size_MB:.2f} MB\\n\")\n",
        "\n",
        "# Number of rows and columns\n",
        "num_entries = housing.shape[0]\n",
        "print(f\"Number of entries: {num_entries}\")\n",
        "num_features = housing.shape[1]\n",
        "print(f\"Number of features: {num_features}\\n\")\n",
        "\n",
        "# Categorical data?\n",
        "categorical_columns = housing.select_dtypes(include=['object', 'category']).columns\n",
        "print(f\"Categorical columns: {list(categorical_columns)}\")\n",
        "print(f\"Number of categorical features: {len(categorical_columns)}\\n\")\n",
        "\n",
        "# Missing values\n",
        "missing_values = housing.isnull().sum()\n",
        "print(f\"Missing values in each column:\\n{missing_values[missing_values > 0]}\\n\")\n",
        "\n",
        "# Basic statistics\n",
        "print(\"Basic statistics:\")\n",
        "print(housing.describe())  # Numeric columns"
      ],
      "metadata": {
        "id": "R-gS-s4lDUcV"
      },
      "execution_count": null,
      "outputs": []
    }
  ]
}